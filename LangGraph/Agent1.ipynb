{
 "cells": [
  {
   "cell_type": "code",
   "execution_count": 4,
   "id": "dfef215a",
   "metadata": {},
   "outputs": [],
   "source": [
    "from typing import Dict, TypedDict\n",
    "from langgraph.graph import StateGraph"
   ]
  },
  {
   "cell_type": "code",
   "execution_count": 5,
   "id": "e76ad892",
   "metadata": {},
   "outputs": [],
   "source": [
    "class AgentState(TypedDict) :\n",
    "    message : str\n",
    "\n",
    "def greeting_node(state : AgentState) -> AgentState:\n",
    "    \"\"\"Simple node adding greeting message\"\"\"\n",
    "\n",
    "    state['message'] = \"Heyy \" + state[\"message\"] + \", how is your day\"\n",
    "    return state"
   ]
  },
  {
   "cell_type": "code",
   "execution_count": 6,
   "id": "918131f4",
   "metadata": {},
   "outputs": [],
   "source": [
    "graph = StateGraph(AgentState)\n",
    "\n",
    "graph.add_node(\"greeter\",greeting_node )\n",
    "\n",
    "graph.set_entry_point(\"greeter\")\n",
    "graph.set_finish_point(\"greeter\")\n",
    "\n",
    "app = graph.compile()"
   ]
  },
  {
   "cell_type": "code",
   "execution_count": 9,
   "id": "ff534b75",
   "metadata": {},
   "outputs": [],
   "source": [
    "result = app.invoke({\"message\" : \"bob\"})\n"
   ]
  },
  {
   "cell_type": "code",
   "execution_count": 10,
   "id": "c0af6a7b",
   "metadata": {},
   "outputs": [
    {
     "data": {
      "text/plain": [
       "'Heyy bob, how is your day'"
      ]
     },
     "execution_count": 10,
     "metadata": {},
     "output_type": "execute_result"
    }
   ],
   "source": [
    "result['message']"
   ]
  }
 ],
 "metadata": {
  "kernelspec": {
   "display_name": "Python 3",
   "language": "python",
   "name": "python3"
  },
  "language_info": {
   "codemirror_mode": {
    "name": "ipython",
    "version": 3
   },
   "file_extension": ".py",
   "mimetype": "text/x-python",
   "name": "python",
   "nbconvert_exporter": "python",
   "pygments_lexer": "ipython3",
   "version": "3.13.1"
  }
 },
 "nbformat": 4,
 "nbformat_minor": 5
}
